{
 "cells": [
  {
   "cell_type": "markdown",
   "metadata": {},
   "source": [
    "# Bekerja dengan Data dalam Python"
   ]
  },
  {
   "cell_type": "markdown",
   "metadata": {},
   "source": [
    "Kamu bekerja sebagai seorang analyst untuk Zuber, sebuah perusahaan berbagi tumpangan (ride-sharing) baru yang diluncurkan di Chicago.\n",
    "\n",
    "Selain data yang kamu peroleh dalam tugas sebelumnya, kamu sudah diberikan file kedua. Sekarang, kamu memiliki dua file CSV berikut:\n",
    "/datasets/project_sql_result_01.csv - memuat data berikut ini:\n",
    "- company_name: nama perusahaan taksi\n",
    "- trips_amount: jumlah perjalanan untuk setiap perusahaan taksi pada tanggal 15-16 November 2017.\n",
    "\n",
    "/datasets/project_sql_result_04.csv - memuat data berikut ini:\n",
    "dropoff_location_name: \n",
    "- nama wilayah di Chicago tempat perjalanan berakhir\n",
    "- average_trips: jumlah rata-rata perjalanan yang berakhir di setiap wilayah pada bulan November 2017."
   ]
  },
  {
   "cell_type": "markdown",
   "metadata": {},
   "source": [
    "# Deskripsi Data\n",
    "Database yang memuat informasi perjalanan taksi di Chicago:\n",
    "\n",
    "Tabel neighborhoods: data terkait wilayah di kota Chicago\n",
    "- name: nama wilayah\n",
    "- neighborhood_id: kode wilayah\n",
    "\n",
    "Tabel cabs: data terkait taksi\n",
    "- cab_id: kode kendaraan\n",
    "- vehicle_id: ID teknis kendaraan\n",
    "- company_name: nama perusahaan yang memiliki kendaraan\n",
    "\n",
    "Tabel trips: data terkait perjalanan\n",
    "- trip_id: kode perjalanan\n",
    "- cab_id: kode kendaraan yang beroperasi\n",
    "- start_ts: tanggal dan waktu perjalanan dimulai (waktu dibulatkan dalam satuan jam)\n",
    "- end_ts: tanggal dan waktu perjalanan berakhir (waktu dibulatkan dalam satuan jam)\n",
    "- duration_seconds: durasi perjalanan dalam satuan detik\n",
    "- distance_miles: jarak perjalanan dalam satuan mil\n",
    "- pickup_location_id: kode wilayah penjemputan\n",
    "- dropoff_location_id: kode wilayah pengantaran\n",
    "\n",
    "Tabel weather_records: data terkait cuaca\n",
    "- record_id: kode pencatatan cuaca\n",
    "- ts: tanggal dan waktu saat pencatatan cuaca dilakukan (waktu dibulatkan dalam satuan jam)\n",
    "- temperature: suhu saat pencatatan cuaca dilakukan\n",
    "- description: deskripsi singkat tentang kondisi cuaca, seperti \"light rain\" (hujan ringan) atau \"scattered clouds\" (berawan)."
   ]
  },
  {
   "cell_type": "markdown",
   "metadata": {},
   "source": [
    "# Pendahuluan\n",
    "Pada saat melakukan analisis, kita perlu merumuskan beberapa hipotesis yang perlu kita uji lebih terlebih dahulu. Tidak semua hipotesis yang kita kerjakan bisa langsung digunakan, kita harus bisa memilih hipotesis mana yang paling tepat untuk menyelesaikan masalah-masalah yang ada pada data yang kita miliki. Untuk membuat keputusan yang tepat, kita harus memahami apakah asumsi yang kita buat sudah tepat atau belum."
   ]
  },
  {
   "cell_type": "markdown",
   "metadata": {},
   "source": [
    "# Tujuan\n",
    "Tujuan dari project ini adalah sebagai berikut:\n",
    "- Untuk mengambil data dari situs web\n",
    "- Membuat irisan data\n",
    "- Mengelompokkan data\n",
    "- Mengombinasikan data dengan benar\n",
    "- Merumuskan hipotesis\n",
    "- Menguji hipotesis"
   ]
  },
  {
   "cell_type": "markdown",
   "metadata": {},
   "source": [
    "# Langkah Pengerjaan:\n",
    "- Tahap Analisis Data Eksploratif (Python)\n",
    "    1. Mengimpor kedua file\n",
    "    2. Mempelajari isi data\n",
    "    3. Memastikan tipe datanya sudah benar\n",
    "    4. Mengidentifikasi 10 wilayah teratas yang dijadikan sebagai titik pengantaran\n",
    "    5. Membuat grafik: perusahaan taksi dan jumlah perjalanannya, 10 wilayah teratas berdasarkan jumlah pengantaran\n",
    "    6. Menarik kesimpulan berdasarkan grafik yang sudah dibuat dan menjelaskan hasilnya\n",
    "    \n",
    "    \n",
    "- Tahap Menguji Hipotesis (Python)\n",
    "    1. Merumuskan hipotesis nol dan hipotesis alternatif\n",
    "    2. Kriteria apa yang digunakan untuk menguji hipotesis dan alasan menggunakannya"
   ]
  },
  {
   "cell_type": "markdown",
   "metadata": {},
   "source": [
    "## Analisis Data Eksploratif"
   ]
  },
  {
   "cell_type": "markdown",
   "metadata": {},
   "source": [
    "### Mengimpor Kedua File"
   ]
  },
  {
   "cell_type": "code",
   "execution_count": 1,
   "metadata": {},
   "outputs": [],
   "source": [
    "# Impor Library\n",
    "import pandas as pd\n",
    "import matplotlib.pyplot as plt\n",
    "import seaborn as sns\n",
    "from scipy import stats"
   ]
  },
  {
   "cell_type": "code",
   "execution_count": 2,
   "metadata": {},
   "outputs": [],
   "source": [
    "# Muat Data\n",
    "data_company = pd.read_csv('/datasets/project_sql_result_01.csv')\n",
    "data_trip = pd.read_csv('/datasets/project_sql_result_04.csv')"
   ]
  },
  {
   "cell_type": "markdown",
   "metadata": {},
   "source": [
    "### Mempelajari isi data"
   ]
  },
  {
   "cell_type": "code",
   "execution_count": 3,
   "metadata": {
    "scrolled": true
   },
   "outputs": [
    {
     "name": "stdout",
     "output_type": "stream",
     "text": [
      "<class 'pandas.core.frame.DataFrame'>\n",
      "RangeIndex: 64 entries, 0 to 63\n",
      "Data columns (total 2 columns):\n",
      " #   Column        Non-Null Count  Dtype \n",
      "---  ------        --------------  ----- \n",
      " 0   company_name  64 non-null     object\n",
      " 1   trips_amount  64 non-null     int64 \n",
      "dtypes: int64(1), object(1)\n",
      "memory usage: 1.1+ KB\n"
     ]
    },
    {
     "data": {
      "text/html": [
       "<div>\n",
       "<style scoped>\n",
       "    .dataframe tbody tr th:only-of-type {\n",
       "        vertical-align: middle;\n",
       "    }\n",
       "\n",
       "    .dataframe tbody tr th {\n",
       "        vertical-align: top;\n",
       "    }\n",
       "\n",
       "    .dataframe thead th {\n",
       "        text-align: right;\n",
       "    }\n",
       "</style>\n",
       "<table border=\"1\" class=\"dataframe\">\n",
       "  <thead>\n",
       "    <tr style=\"text-align: right;\">\n",
       "      <th></th>\n",
       "      <th>company_name</th>\n",
       "      <th>trips_amount</th>\n",
       "    </tr>\n",
       "  </thead>\n",
       "  <tbody>\n",
       "    <tr>\n",
       "      <th>0</th>\n",
       "      <td>Flash Cab</td>\n",
       "      <td>19558</td>\n",
       "    </tr>\n",
       "    <tr>\n",
       "      <th>1</th>\n",
       "      <td>Taxi Affiliation Services</td>\n",
       "      <td>11422</td>\n",
       "    </tr>\n",
       "    <tr>\n",
       "      <th>2</th>\n",
       "      <td>Medallion Leasing</td>\n",
       "      <td>10367</td>\n",
       "    </tr>\n",
       "    <tr>\n",
       "      <th>3</th>\n",
       "      <td>Yellow Cab</td>\n",
       "      <td>9888</td>\n",
       "    </tr>\n",
       "    <tr>\n",
       "      <th>4</th>\n",
       "      <td>Taxi Affiliation Service Yellow</td>\n",
       "      <td>9299</td>\n",
       "    </tr>\n",
       "  </tbody>\n",
       "</table>\n",
       "</div>"
      ],
      "text/plain": [
       "                      company_name  trips_amount\n",
       "0                        Flash Cab         19558\n",
       "1        Taxi Affiliation Services         11422\n",
       "2                Medallion Leasing         10367\n",
       "3                       Yellow Cab          9888\n",
       "4  Taxi Affiliation Service Yellow          9299"
      ]
     },
     "execution_count": 3,
     "metadata": {},
     "output_type": "execute_result"
    }
   ],
   "source": [
    "data_company.info()\n",
    "data_company.head()"
   ]
  },
  {
   "cell_type": "code",
   "execution_count": 4,
   "metadata": {},
   "outputs": [
    {
     "name": "stdout",
     "output_type": "stream",
     "text": [
      "<class 'pandas.core.frame.DataFrame'>\n",
      "RangeIndex: 94 entries, 0 to 93\n",
      "Data columns (total 2 columns):\n",
      " #   Column                 Non-Null Count  Dtype  \n",
      "---  ------                 --------------  -----  \n",
      " 0   dropoff_location_name  94 non-null     object \n",
      " 1   average_trips          94 non-null     float64\n",
      "dtypes: float64(1), object(1)\n",
      "memory usage: 1.6+ KB\n"
     ]
    },
    {
     "data": {
      "text/html": [
       "<div>\n",
       "<style scoped>\n",
       "    .dataframe tbody tr th:only-of-type {\n",
       "        vertical-align: middle;\n",
       "    }\n",
       "\n",
       "    .dataframe tbody tr th {\n",
       "        vertical-align: top;\n",
       "    }\n",
       "\n",
       "    .dataframe thead th {\n",
       "        text-align: right;\n",
       "    }\n",
       "</style>\n",
       "<table border=\"1\" class=\"dataframe\">\n",
       "  <thead>\n",
       "    <tr style=\"text-align: right;\">\n",
       "      <th></th>\n",
       "      <th>dropoff_location_name</th>\n",
       "      <th>average_trips</th>\n",
       "    </tr>\n",
       "  </thead>\n",
       "  <tbody>\n",
       "    <tr>\n",
       "      <th>0</th>\n",
       "      <td>Loop</td>\n",
       "      <td>10727.466667</td>\n",
       "    </tr>\n",
       "    <tr>\n",
       "      <th>1</th>\n",
       "      <td>River North</td>\n",
       "      <td>9523.666667</td>\n",
       "    </tr>\n",
       "    <tr>\n",
       "      <th>2</th>\n",
       "      <td>Streeterville</td>\n",
       "      <td>6664.666667</td>\n",
       "    </tr>\n",
       "    <tr>\n",
       "      <th>3</th>\n",
       "      <td>West Loop</td>\n",
       "      <td>5163.666667</td>\n",
       "    </tr>\n",
       "    <tr>\n",
       "      <th>4</th>\n",
       "      <td>O'Hare</td>\n",
       "      <td>2546.900000</td>\n",
       "    </tr>\n",
       "  </tbody>\n",
       "</table>\n",
       "</div>"
      ],
      "text/plain": [
       "  dropoff_location_name  average_trips\n",
       "0                  Loop   10727.466667\n",
       "1           River North    9523.666667\n",
       "2         Streeterville    6664.666667\n",
       "3             West Loop    5163.666667\n",
       "4                O'Hare    2546.900000"
      ]
     },
     "execution_count": 4,
     "metadata": {},
     "output_type": "execute_result"
    }
   ],
   "source": [
    "data_trip.info()\n",
    "data_trip.head()"
   ]
  },
  {
   "cell_type": "markdown",
   "metadata": {},
   "source": [
    "### Memastikan tipe datanya sudah benar"
   ]
  },
  {
   "cell_type": "code",
   "execution_count": 5,
   "metadata": {
    "scrolled": true
   },
   "outputs": [
    {
     "data": {
      "text/plain": [
       "company_name    object\n",
       "trips_amount     int64\n",
       "dtype: object"
      ]
     },
     "execution_count": 5,
     "metadata": {},
     "output_type": "execute_result"
    }
   ],
   "source": [
    "data_company.dtypes"
   ]
  },
  {
   "cell_type": "code",
   "execution_count": 6,
   "metadata": {},
   "outputs": [
    {
     "data": {
      "text/plain": [
       "dropoff_location_name     object\n",
       "average_trips            float64\n",
       "dtype: object"
      ]
     },
     "execution_count": 6,
     "metadata": {},
     "output_type": "execute_result"
    }
   ],
   "source": [
    "data_trip.dtypes"
   ]
  },
  {
   "cell_type": "markdown",
   "metadata": {},
   "source": [
    "### Mengidentifikasi 10 wilayah teratas yang dijadikan sebagai titik pengantaran"
   ]
  },
  {
   "cell_type": "code",
   "execution_count": 7,
   "metadata": {},
   "outputs": [],
   "source": [
    "# Mengurutkan data berdasarkan kolom average_trips secara menurun\n",
    "top_10_dropoff_locations = data_trip.sort_values(by='average_trips', ascending=False).head(10)"
   ]
  },
  {
   "cell_type": "code",
   "execution_count": 8,
   "metadata": {},
   "outputs": [
    {
     "name": "stdout",
     "output_type": "stream",
     "text": [
      "  dropoff_location_name  average_trips\n",
      "0                  Loop   10727.466667\n",
      "1           River North    9523.666667\n",
      "2         Streeterville    6664.666667\n",
      "3             West Loop    5163.666667\n",
      "4                O'Hare    2546.900000\n",
      "5             Lake View    2420.966667\n",
      "6            Grant Park    2068.533333\n",
      "7         Museum Campus    1510.000000\n",
      "8            Gold Coast    1364.233333\n",
      "9    Sheffield & DePaul    1259.766667\n"
     ]
    }
   ],
   "source": [
    "# Menampilkan 10 wilayah teratas sebagai titik pengantaran\n",
    "print(top_10_dropoff_locations)"
   ]
  },
  {
   "cell_type": "markdown",
   "metadata": {},
   "source": [
    "### Membuat grafik\n",
    "Grafik untuk perusahaan taksi dan jumlah perjalanannya, 10 wilayah teratas berdasarkan jumlah pengantaran."
   ]
  },
  {
   "cell_type": "code",
   "execution_count": 9,
   "metadata": {},
   "outputs": [
    {
     "data": {
      "image/png": "[encoded data removed]",
      "text/plain": [
       "<Figure size 864x720 with 1 Axes>"
      ]
     },
     "metadata": {
      "needs_background": "light"
     },
     "output_type": "display_data"
    }
   ],
   "source": [
    "# Grafik untuk perusahaan taksi dan jumlah perjalanan\n",
    "plt.figure(figsize=(12, 10))                    \n",
    "plt.subplot(1, 2, 1)\n",
    "sns.barplot(data=data_company, x='trips_amount', y='company_name', palette='viridis')\n",
    "plt.xlabel('Jumlah Perjalanan')\n",
    "plt.ylabel('Perusahaan Taksi')\n",
    "plt.title('Jumlah Perjalanan Perusahaan Taksi')\n",
    "\n",
    "# Atur rotasi label sumbu y\n",
    "plt.yticks(rotation=0);\n"
   ]
  },
  {
   "cell_type": "code",
   "execution_count": 10,
   "metadata": {},
   "outputs": [
    {
     "data": {
      "image/png": "[encoded data removed]",
      "text/plain": [
       "<Figure size 432x288 with 1 Axes>"
      ]
     },
     "metadata": {
      "needs_background": "light"
     },
     "output_type": "display_data"
    }
   ],
   "source": [
    "# Grafik untuk 10 wilayah teratas berdasarkan jumlah pengantaran\n",
    "plt.subplot(1, 1, 1)\n",
    "top_10_locations = data_trip.head(10)\n",
    "sns.barplot(data=top_10_locations, x='average_trips', y='dropoff_location_name', palette='viridis')\n",
    "plt.xlabel('Rata-rata Perjalanan')\n",
    "plt.ylabel('Wilayah Pengantaran')\n",
    "plt.title('Top 10 Wilayah Pengantaran')\n",
    "plt.show()"
   ]
  },
  {
   "cell_type": "markdown",
   "metadata": {},
   "source": [
    "### Menarik kesimpulan berdasarkan grafik yang sudah dibuat dan menjelaskan hasilnya"
   ]
  },
  {
   "cell_type": "markdown",
   "metadata": {},
   "source": [
    "- Dari grafik 'Jumlah Perjalanan Perusahaan Taksi' dapat ditarik kesimpulan bahwa 3 posisi teratas yang memiliki jumlah perjalanan terbanyak adalah perusahaan taksi Flash Cab, Taxi Affiliation Services, dan Medallion Leasing. \n",
    "\n",
    "\n",
    "- Dari grafik 'Top 10 Wilayah Pengantaran' dapat ditarik kesimpulan bahwa 3 posisi teratas untuk daerah pengantaran dengan rata-rata perjalanan tertinggi / teratas adalah Loop, River North, dan Streeterville. "
   ]
  },
  {
   "cell_type": "markdown",
   "metadata": {},
   "source": [
    "## Menguji hipotesis"
   ]
  },
  {
   "cell_type": "markdown",
   "metadata": {},
   "source": [
    "### Merumuskan hipotesis nol dan hipotesis alternatif\n",
    "H0 = Rata-rata durasi perjalanan dari Loop ke Bandara Internasional O'Hare saat hujan di hari Sabtu adalah SAMA\n",
    "\n",
    "H1 = Rata-rata durasi perjalanan dari Loop ke Bandara Internasional O'Hare saat hujan hari Sabtu adalah BERBEDA"
   ]
  },
  {
   "cell_type": "code",
   "execution_count": 11,
   "metadata": {},
   "outputs": [
    {
     "name": "stdout",
     "output_type": "stream",
     "text": [
      "<class 'pandas.core.frame.DataFrame'>\n",
      "RangeIndex: 1068 entries, 0 to 1067\n",
      "Data columns (total 3 columns):\n",
      " #   Column              Non-Null Count  Dtype  \n",
      "---  ------              --------------  -----  \n",
      " 0   start_ts            1068 non-null   object \n",
      " 1   weather_conditions  1068 non-null   object \n",
      " 2   duration_seconds    1068 non-null   float64\n",
      "dtypes: float64(1), object(2)\n",
      "memory usage: 25.2+ KB\n"
     ]
    },
    {
     "data": {
      "text/html": [
       "<div>\n",
       "<style scoped>\n",
       "    .dataframe tbody tr th:only-of-type {\n",
       "        vertical-align: middle;\n",
       "    }\n",
       "\n",
       "    .dataframe tbody tr th {\n",
       "        vertical-align: top;\n",
       "    }\n",
       "\n",
       "    .dataframe thead th {\n",
       "        text-align: right;\n",
       "    }\n",
       "</style>\n",
       "<table border=\"1\" class=\"dataframe\">\n",
       "  <thead>\n",
       "    <tr style=\"text-align: right;\">\n",
       "      <th></th>\n",
       "      <th>start_ts</th>\n",
       "      <th>weather_conditions</th>\n",
       "      <th>duration_seconds</th>\n",
       "    </tr>\n",
       "  </thead>\n",
       "  <tbody>\n",
       "    <tr>\n",
       "      <th>0</th>\n",
       "      <td>2017-11-25 16:00:00</td>\n",
       "      <td>Good</td>\n",
       "      <td>2410.0</td>\n",
       "    </tr>\n",
       "    <tr>\n",
       "      <th>1</th>\n",
       "      <td>2017-11-25 14:00:00</td>\n",
       "      <td>Good</td>\n",
       "      <td>1920.0</td>\n",
       "    </tr>\n",
       "    <tr>\n",
       "      <th>2</th>\n",
       "      <td>2017-11-25 12:00:00</td>\n",
       "      <td>Good</td>\n",
       "      <td>1543.0</td>\n",
       "    </tr>\n",
       "    <tr>\n",
       "      <th>3</th>\n",
       "      <td>2017-11-04 10:00:00</td>\n",
       "      <td>Good</td>\n",
       "      <td>2512.0</td>\n",
       "    </tr>\n",
       "    <tr>\n",
       "      <th>4</th>\n",
       "      <td>2017-11-11 07:00:00</td>\n",
       "      <td>Good</td>\n",
       "      <td>1440.0</td>\n",
       "    </tr>\n",
       "  </tbody>\n",
       "</table>\n",
       "</div>"
      ],
      "text/plain": [
       "              start_ts weather_conditions  duration_seconds\n",
       "0  2017-11-25 16:00:00               Good            2410.0\n",
       "1  2017-11-25 14:00:00               Good            1920.0\n",
       "2  2017-11-25 12:00:00               Good            1543.0\n",
       "3  2017-11-04 10:00:00               Good            2512.0\n",
       "4  2017-11-11 07:00:00               Good            1440.0"
      ]
     },
     "execution_count": 11,
     "metadata": {},
     "output_type": "execute_result"
    }
   ],
   "source": [
    "# Muat data dari file CSV\n",
    "data = pd.read_csv('/datasets/project_sql_result_07.csv')\n",
    "data.info()\n",
    "data.head()"
   ]
  },
  {
   "cell_type": "code",
   "execution_count": 12,
   "metadata": {},
   "outputs": [],
   "source": [
    "# Konversi kolom start_ts ke objek datetime\n",
    "data['start_ts'] = pd.to_datetime(data['start_ts'])"
   ]
  },
  {
   "cell_type": "code",
   "execution_count": 13,
   "metadata": {},
   "outputs": [],
   "source": [
    "# Filter data hanya pada hari Sabtu\n",
    "saturday_data = data[data['start_ts'].dt.weekday == 5]"
   ]
  },
  {
   "cell_type": "code",
   "execution_count": 14,
   "metadata": {},
   "outputs": [],
   "source": [
    "# Pisahkan data ke dalam dua kelompok: saat hujan (weather_conditions == 'Bad') dan saat tidak hujan (weather_conditions == 'Good')\n",
    "saturday_rain = saturday_data[saturday_data['weather_conditions'] == 'Bad']['duration_seconds']\n",
    "saturday_no_rain = saturday_data[saturday_data['weather_conditions'] == 'Good']['duration_seconds']"
   ]
  },
  {
   "cell_type": "code",
   "execution_count": 15,
   "metadata": {},
   "outputs": [],
   "source": [
    "# Tentukan nilai (alpha)\n",
    "alpha = 0.05  "
   ]
  },
  {
   "cell_type": "code",
   "execution_count": 16,
   "metadata": {},
   "outputs": [
    {
     "name": "stdout",
     "output_type": "stream",
     "text": [
      "0.5332038671974493\n",
      "Accept the null hypothesis\n"
     ]
    }
   ],
   "source": [
    "# Uji hipotesis levene-test\n",
    "p_value_levene = stats.levene(saturday_rain, saturday_no_rain).pvalue\n",
    "print(p_value_levene)\n",
    "\n",
    "if p_value_levene < alpha:\n",
    "    print(\"Reject the null hypothesis\")\n",
    "else:\n",
    "    print(\"Accept the null hypothesis\")"
   ]
  },
  {
   "cell_type": "markdown",
   "metadata": {},
   "source": [
    "**Kesimpulan**\n",
    "\n",
    "Hasil pengujian hipotesis diatas menunjukkan bahwa p-value lebih besar dari nilai alpha, maka kita menerima hipotesis nol (H0). Yang artinya perbedaan dalam varians di antara kedua kelompok tidak signifikan."
   ]
  },
  {
   "cell_type": "code",
   "execution_count": 17,
   "metadata": {},
   "outputs": [
    {
     "name": "stdout",
     "output_type": "stream",
     "text": [
      "6.738994326108734e-12\n",
      "Reject the null hypothesis\n"
     ]
    }
   ],
   "source": [
    "# Uji t-test (independen)\n",
    "p_value = stats.ttest_ind(saturday_rain, saturday_no_rain, equal_var=False).pvalue\n",
    "\n",
    "print(p_value)\n",
    "\n",
    "if p_value < alpha:\n",
    "    print(\"Reject the null hypothesis\")\n",
    "else:\n",
    "    print(\"Accept the null hypothesis\")\n"
   ]
  },
  {
   "cell_type": "markdown",
   "metadata": {},
   "source": [
    "**Kesimpulan**\n",
    "\n",
    "Hasil pengujian uji t-test independen dengan asumsi variances tidak sama (equal_var=False) diatas menunjukkan bahwa p-value lebih kecil dari nilai alpha.\n",
    "Yang artinya, dari uji t-Test ditemukan bahwa terdapat perbedaan yang signifikan dalam durasi rata-rata perjalanan saat hujan dan saat tidak hujan di hari Sabtu. "
   ]
  },
  {
   "cell_type": "markdown",
   "metadata": {},
   "source": [
    "### Kriteria apa yang digunakan untuk menguji hipotesis dan alasan menggunakannya"
   ]
  },
  {
   "cell_type": "markdown",
   "metadata": {},
   "source": [
    "1. Levene Test (Levene's Test for Equality of Variances):\n",
    "\n",
    "- Saya menggunakan Levene Test untuk menguji apakah dua kelompok data memiliki varian yang homogen atau sejenis.\n",
    "\n",
    "- Alasan: Pengujian homogenitas varian penting karena metode statistik seperti t-test mengasumsikan homogenitas varian. Jika ditemukan hasil varian tidak homogen, maka kita perlu mengadaptasi metode pengujian agar sesuai dengan kondisi sebenarnya."
   ]
  },
  {
   "cell_type": "markdown",
   "metadata": {},
   "source": [
    "2. t-Test (Independent):\n",
    "\n",
    "- Saya menggunakan t-Test untuk membandingkan rata-rata antara dua kelompok data independen (tidak berpasangan).\n",
    "\n",
    "- Alasan: t-Test untuk menguji apakah ada perbedaan signifikan antara rata-rata durasi perjalanan di hari Sabtu saat cuaca buruk (hujan) dan saat cuaca baik (tidak hujan). t-Test membantu menentukan apakah perbedaan ini bersifat acak atau signifikan secara statistik."
   ]
  },
  {
   "cell_type": "markdown",
   "metadata": {},
   "source": [
    "## Kesimpulan Umum"
   ]
  },
  {
   "cell_type": "markdown",
   "metadata": {},
   "source": [
    "**1. Kesimpulan Tahap Analisis Data Eksploratif** :\n",
    "\n",
    "Menarik kesimpulan berdasarkan grafik yang sudah dibuat dan menjelaskan hasilnya\n",
    "  - Dari grafik 'Jumlah Perjalanan Perusahaan Taksi' dapat ditarik kesimpulan bahwa 3 posisi teratas yang memiliki jumlah perjalanan terbanyak adalah perusahaan taksi Flash Cab, Taxi Affiliation Services, dan Medallion Leasing.\n",
    "  - Dari grafik 'Top 10 Wilayah Pengantaran' dapat ditarik kesimpulan bahwa 3 posisi teratas untuk daerah pengantaran dengan rata-rata perjalanan tertinggi / teratas adalah Loop, River North, dan Streeterville\n",
    "  \n",
    "    \n",
    "**2. Kesimpulan Tahap Uji Hipotesis** :\n",
    "\n",
    "- Hasil pengujian hipotesis diatas menunjukkan bahwa p-value lebih besar dari nilai alpha, maka kita menerima hipotesis nol (H0). Yang artinya perbedaan dalam varians di antara kedua kelompok tidak signifikan.\n",
    "\n",
    "- Hasil pengujian uji t-test independen dengan asumsi variances tidak sama (equal_var=False) diatas menunjukkan bahwa p-value lebih kecil dari nilai alpha.\n",
    "Yang artinya, dari uji t-Test ditemukan bahwa terdapat perbedaan yang signifikan dalam durasi rata-rata perjalanan saat hujan dan saat tidak hujan di hari Sabtu. \n",
    "\n"
   ]
  }
 ],
 "metadata": {
  "kernelspec": {
   "display_name": "Python 3 (ipykernel)",
   "language": "python",
   "name": "python3"
  },
  "language_info": {
   "codemirror_mode": {
    "name": "ipython",
    "version": 3
   },
   "file_extension": ".py",
   "mimetype": "text/x-python",
   "name": "python",
   "nbconvert_exporter": "python",
   "pygments_lexer": "ipython3",
   "version": "3.11.7"
  },
  "toc": {
   "base_numbering": 1,
   "nav_menu": {},
   "number_sections": true,
   "sideBar": true,
   "skip_h1_title": true,
   "title_cell": "Table of Contents",
   "title_sidebar": "Contents",
   "toc_cell": false,
   "toc_position": {
    "height": "calc(100% - 180px)",
    "left": "10px",
    "top": "150px",
    "width": "239.594px"
   },
   "toc_section_display": true,
   "toc_window_display": true
  }
 },
 "nbformat": 4,
 "nbformat_minor": 2
}
